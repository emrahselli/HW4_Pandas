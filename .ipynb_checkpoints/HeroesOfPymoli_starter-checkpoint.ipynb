{
 "cells": [
  {
   "cell_type": "markdown",
   "metadata": {},
   "source": [
    "### Heroes Of Pymoli Data Analysis\n",
    "* Although the number of male players is higher than female players, female players overall spend slightly more than males (average purchase per person is 4.47 vs 4.07).\n",
    "\n",
    "* Similarly, although the age group 20-24 is the most crowded and makes the highest total purchase, the players in the age group 35-39 overall spend slightly more (average purchase per person is 4.76 vs 4.32).\n",
    "\n",
    "* Item 178 is the most popular and most profitable item amongs others.\n",
    "-----"
   ]
  },
  {
   "cell_type": "markdown",
   "metadata": {},
   "source": [
    "### Note\n",
    "* Instructions have been included for each segment. You do not have to follow them exactly, but they are included to help you think through the steps."
   ]
  },
  {
   "cell_type": "code",
   "execution_count": 1,
   "metadata": {},
   "outputs": [],
   "source": [
    "# Dependencies and Setup\n",
    "import pandas as pd\n",
    "import numpy as np\n",
    "\n",
    "# File to Load (Remember to Change These)\n",
    "file_to_load = \"Resources/purchase_data.csv\"\n",
    "\n",
    "# Read Purchasing File and store into Pandas data frame\n",
    "purchase_data = pd.read_csv(file_to_load)"
   ]
  },
  {
   "cell_type": "markdown",
   "metadata": {},
   "source": [
    "## Player Count"
   ]
  },
  {
   "cell_type": "markdown",
   "metadata": {},
   "source": [
    "* Display the total number of players\n"
   ]
  },
  {
   "cell_type": "code",
   "execution_count": 11,
   "metadata": {},
   "outputs": [
    {
     "name": "stdout",
     "output_type": "stream",
     "text": [
      "Total number of players = 576\n"
     ]
    }
   ],
   "source": [
    "total_players = len(purchase_data[\"SN\"].value_counts())\n",
    "print(f'Total number of players = {total_players}')"
   ]
  },
  {
   "cell_type": "markdown",
   "metadata": {},
   "source": [
    "## Purchasing Analysis (Total)"
   ]
  },
  {
   "cell_type": "markdown",
   "metadata": {},
   "source": [
    "* Run basic calculations to obtain number of unique items, average price, etc.\n",
    "\n",
    "\n",
    "* Create a summary data frame to hold the results\n",
    "\n",
    "\n",
    "* Optional: give the displayed data cleaner formatting\n",
    "\n",
    "\n",
    "* Display the summary data frame\n"
   ]
  },
  {
   "cell_type": "code",
   "execution_count": 163,
   "metadata": {
    "scrolled": true
   },
   "outputs": [
    {
     "data": {
      "text/html": [
       "<style  type=\"text/css\" >\n",
       "</style>  \n",
       "<table id=\"T_3f21eea2_9168_11e9_9599_dc5360679d95\" > \n",
       "<thead>    <tr> \n",
       "        <th class=\"blank level0\" ></th> \n",
       "        <th class=\"col_heading level0 col0\" >Number of unique items</th> \n",
       "        <th class=\"col_heading level0 col1\" >Average price</th> \n",
       "        <th class=\"col_heading level0 col2\" >Number of purchases</th> \n",
       "        <th class=\"col_heading level0 col3\" >Total revenue</th> \n",
       "    </tr></thead> \n",
       "<tbody>    <tr> \n",
       "        <th id=\"T_3f21eea2_9168_11e9_9599_dc5360679d95level0_row0\" class=\"row_heading level0 row0\" >0</th> \n",
       "        <td id=\"T_3f21eea2_9168_11e9_9599_dc5360679d95row0_col0\" class=\"data row0 col0\" >183</td> \n",
       "        <td id=\"T_3f21eea2_9168_11e9_9599_dc5360679d95row0_col1\" class=\"data row0 col1\" >3.05</td> \n",
       "        <td id=\"T_3f21eea2_9168_11e9_9599_dc5360679d95row0_col2\" class=\"data row0 col2\" >780</td> \n",
       "        <td id=\"T_3f21eea2_9168_11e9_9599_dc5360679d95row0_col3\" class=\"data row0 col3\" >2379.77</td> \n",
       "    </tr></tbody> \n",
       "</table> "
      ],
      "text/plain": [
       "<pandas.io.formats.style.Styler at 0x15d0d227668>"
      ]
     },
     "execution_count": 163,
     "metadata": {},
     "output_type": "execute_result"
    }
   ],
   "source": [
    "item_number = len(purchase_data[\"Item ID\"].value_counts())\n",
    "average_price = round(purchase_data[\"Price\"].mean(), 2)\n",
    "no_purchase = purchase_data.shape[0]\n",
    "total_rev = purchase_data[\"Price\"].sum()\n",
    "gen_list = [item_number, average_price, no_purchase, total_rev]\n",
    "gen_df = pd.DataFrame(data=[gen_list])\n",
    "gen_df.columns = [\"Number of unique items\", \"Average price\", \"Number of purchases\", \"Total revenue\"]\n",
    "gen_df.style"
   ]
  },
  {
   "cell_type": "markdown",
   "metadata": {},
   "source": [
    "## Gender Demographics"
   ]
  },
  {
   "cell_type": "markdown",
   "metadata": {},
   "source": [
    "* Percentage and Count of Male Players\n",
    "\n",
    "\n",
    "* Percentage and Count of Female Players\n",
    "\n",
    "\n",
    "* Percentage and Count of Other / Non-Disclosed\n",
    "\n",
    "\n"
   ]
  },
  {
   "cell_type": "code",
   "execution_count": 99,
   "metadata": {},
   "outputs": [
    {
     "data": {
      "text/html": [
       "<style  type=\"text/css\" >\n",
       "</style>  \n",
       "<table id=\"T_e5c52a1c_8f37_11e9_9349_dc5360679d95\" > \n",
       "<thead>    <tr> \n",
       "        <th class=\"blank level0\" ></th> \n",
       "        <th class=\"col_heading level0 col0\" >Total Count</th> \n",
       "        <th class=\"col_heading level0 col1\" >Percentage</th> \n",
       "    </tr>    <tr> \n",
       "        <th class=\"index_name level0\" >Gender</th> \n",
       "        <th class=\"blank\" ></th> \n",
       "        <th class=\"blank\" ></th> \n",
       "    </tr></thead> \n",
       "<tbody>    <tr> \n",
       "        <th id=\"T_e5c52a1c_8f37_11e9_9349_dc5360679d95level0_row0\" class=\"row_heading level0 row0\" >Female</th> \n",
       "        <td id=\"T_e5c52a1c_8f37_11e9_9349_dc5360679d95row0_col0\" class=\"data row0 col0\" >81</td> \n",
       "        <td id=\"T_e5c52a1c_8f37_11e9_9349_dc5360679d95row0_col1\" class=\"data row0 col1\" >14.06</td> \n",
       "    </tr>    <tr> \n",
       "        <th id=\"T_e5c52a1c_8f37_11e9_9349_dc5360679d95level0_row1\" class=\"row_heading level0 row1\" >Male</th> \n",
       "        <td id=\"T_e5c52a1c_8f37_11e9_9349_dc5360679d95row1_col0\" class=\"data row1 col0\" >484</td> \n",
       "        <td id=\"T_e5c52a1c_8f37_11e9_9349_dc5360679d95row1_col1\" class=\"data row1 col1\" >84.03</td> \n",
       "    </tr>    <tr> \n",
       "        <th id=\"T_e5c52a1c_8f37_11e9_9349_dc5360679d95level0_row2\" class=\"row_heading level0 row2\" >Other / Non-Disclosed</th> \n",
       "        <td id=\"T_e5c52a1c_8f37_11e9_9349_dc5360679d95row2_col0\" class=\"data row2 col0\" >11</td> \n",
       "        <td id=\"T_e5c52a1c_8f37_11e9_9349_dc5360679d95row2_col1\" class=\"data row2 col1\" >1.91</td> \n",
       "    </tr></tbody> \n",
       "</table> "
      ],
      "text/plain": [
       "<pandas.io.formats.style.Styler at 0x15d0d613e10>"
      ]
     },
     "execution_count": 99,
     "metadata": {},
     "output_type": "execute_result"
    }
   ],
   "source": [
    "gender_count = purchase_data.groupby('Gender')['SN'].nunique()\n",
    "gender_percent = round(gender_count / gender_count.sum() * 100, 2)\n",
    "gender_df = pd.concat([gender_count, gender_percent], axis=1)\n",
    "gender_df.columns = [\"Total Count\", \"Percentage\"]\n",
    "gender_df.style"
   ]
  },
  {
   "cell_type": "markdown",
   "metadata": {},
   "source": [
    "\n",
    "## Purchasing Analysis (Gender)"
   ]
  },
  {
   "cell_type": "markdown",
   "metadata": {},
   "source": [
    "* Run basic calculations to obtain purchase count, avg. purchase price, avg. purchase total per person etc. by gender\n",
    "\n",
    "\n",
    "\n",
    "\n",
    "* Create a summary data frame to hold the results\n",
    "\n",
    "\n",
    "* Optional: give the displayed data cleaner formatting\n",
    "\n",
    "\n",
    "* Display the summary data frame"
   ]
  },
  {
   "cell_type": "code",
   "execution_count": 107,
   "metadata": {},
   "outputs": [
    {
     "data": {
      "text/html": [
       "<style  type=\"text/css\" >\n",
       "</style>  \n",
       "<table id=\"T_ac68d17e_8f3a_11e9_8b03_dc5360679d95\" > \n",
       "<thead>    <tr> \n",
       "        <th class=\"blank level0\" ></th> \n",
       "        <th class=\"col_heading level0 col0\" >Purchase Count</th> \n",
       "        <th class=\"col_heading level0 col1\" >Average Purchase Price</th> \n",
       "        <th class=\"col_heading level0 col2\" >Total Purchase Value</th> \n",
       "        <th class=\"col_heading level0 col3\" >Average Purchase per Person</th> \n",
       "    </tr></thead> \n",
       "<tbody>    <tr> \n",
       "        <th id=\"T_ac68d17e_8f3a_11e9_8b03_dc5360679d95level0_row0\" class=\"row_heading level0 row0\" >Male</th> \n",
       "        <td id=\"T_ac68d17e_8f3a_11e9_8b03_dc5360679d95row0_col0\" class=\"data row0 col0\" >652</td> \n",
       "        <td id=\"T_ac68d17e_8f3a_11e9_8b03_dc5360679d95row0_col1\" class=\"data row0 col1\" >$3.02</td> \n",
       "        <td id=\"T_ac68d17e_8f3a_11e9_8b03_dc5360679d95row0_col2\" class=\"data row0 col2\" >$1967.64</td> \n",
       "        <td id=\"T_ac68d17e_8f3a_11e9_8b03_dc5360679d95row0_col3\" class=\"data row0 col3\" >$4.07</td> \n",
       "    </tr>    <tr> \n",
       "        <th id=\"T_ac68d17e_8f3a_11e9_8b03_dc5360679d95level0_row1\" class=\"row_heading level0 row1\" >Female</th> \n",
       "        <td id=\"T_ac68d17e_8f3a_11e9_8b03_dc5360679d95row1_col0\" class=\"data row1 col0\" >113</td> \n",
       "        <td id=\"T_ac68d17e_8f3a_11e9_8b03_dc5360679d95row1_col1\" class=\"data row1 col1\" >$3.2</td> \n",
       "        <td id=\"T_ac68d17e_8f3a_11e9_8b03_dc5360679d95row1_col2\" class=\"data row1 col2\" >$361.94</td> \n",
       "        <td id=\"T_ac68d17e_8f3a_11e9_8b03_dc5360679d95row1_col3\" class=\"data row1 col3\" >$4.47</td> \n",
       "    </tr>    <tr> \n",
       "        <th id=\"T_ac68d17e_8f3a_11e9_8b03_dc5360679d95level0_row2\" class=\"row_heading level0 row2\" >Other / Non-Disclosed</th> \n",
       "        <td id=\"T_ac68d17e_8f3a_11e9_8b03_dc5360679d95row2_col0\" class=\"data row2 col0\" >15</td> \n",
       "        <td id=\"T_ac68d17e_8f3a_11e9_8b03_dc5360679d95row2_col1\" class=\"data row2 col1\" >$3.35</td> \n",
       "        <td id=\"T_ac68d17e_8f3a_11e9_8b03_dc5360679d95row2_col2\" class=\"data row2 col2\" >$50.19</td> \n",
       "        <td id=\"T_ac68d17e_8f3a_11e9_8b03_dc5360679d95row2_col3\" class=\"data row2 col3\" >$4.56</td> \n",
       "    </tr></tbody> \n",
       "</table> "
      ],
      "text/plain": [
       "<pandas.io.formats.style.Styler at 0x15d0d1f8d68>"
      ]
     },
     "execution_count": 107,
     "metadata": {},
     "output_type": "execute_result"
    }
   ],
   "source": [
    "pur_count = purchase_data.Gender.value_counts()\n",
    "av_price = round(purchase_data.groupby(\"Gender\")[\"Price\"].mean(), 2)\n",
    "av_price = '$' + av_price.astype(str)\n",
    "total_val = round(purchase_data.groupby(\"Gender\")[\"Price\"].sum(), 2)\n",
    "av_pur_pp = round(total_val / gender_count, 2)\n",
    "total_val = '$' + total_val.astype(str)\n",
    "av_pur_pp = '$' + av_pur_pp.astype(str)\n",
    "purchase_df = pd.concat([pur_count, av_price, total_val, av_pur_pp], axis=1, sort = False)\n",
    "purchase_df.columns = [\"Purchase Count\", \"Average Purchase Price\", \"Total Purchase Value\", \"Average Purchase per Person\"]\n",
    "purchase_df.style"
   ]
  },
  {
   "cell_type": "markdown",
   "metadata": {},
   "source": [
    "## Age Demographics"
   ]
  },
  {
   "cell_type": "markdown",
   "metadata": {},
   "source": [
    "* Establish bins for ages\n",
    "\n",
    "\n",
    "* Categorize the existing players using the age bins. Hint: use pd.cut()\n",
    "\n",
    "\n",
    "* Calculate the numbers and percentages by age group\n",
    "\n",
    "\n",
    "* Create a summary data frame to hold the results\n",
    "\n",
    "\n",
    "* Optional: round the percentage column to two decimal points\n",
    "\n",
    "\n",
    "* Display Age Demographics Table\n"
   ]
  },
  {
   "cell_type": "code",
   "execution_count": 97,
   "metadata": {},
   "outputs": [
    {
     "data": {
      "text/html": [
       "<style  type=\"text/css\" >\n",
       "</style>  \n",
       "<table id=\"T_d3f0ea22_8f37_11e9_a399_dc5360679d95\" > \n",
       "<thead>    <tr> \n",
       "        <th class=\"blank level0\" ></th> \n",
       "        <th class=\"col_heading level0 col0\" >Total number</th> \n",
       "        <th class=\"col_heading level0 col1\" >Percentage</th> \n",
       "    </tr></thead> \n",
       "<tbody>    <tr> \n",
       "        <th id=\"T_d3f0ea22_8f37_11e9_a399_dc5360679d95level0_row0\" class=\"row_heading level0 row0\" ><10</th> \n",
       "        <td id=\"T_d3f0ea22_8f37_11e9_a399_dc5360679d95row0_col0\" class=\"data row0 col0\" >24</td> \n",
       "        <td id=\"T_d3f0ea22_8f37_11e9_a399_dc5360679d95row0_col1\" class=\"data row0 col1\" >4.17</td> \n",
       "    </tr>    <tr> \n",
       "        <th id=\"T_d3f0ea22_8f37_11e9_a399_dc5360679d95level0_row1\" class=\"row_heading level0 row1\" >10-14</th> \n",
       "        <td id=\"T_d3f0ea22_8f37_11e9_a399_dc5360679d95row1_col0\" class=\"data row1 col0\" >15</td> \n",
       "        <td id=\"T_d3f0ea22_8f37_11e9_a399_dc5360679d95row1_col1\" class=\"data row1 col1\" >2.6</td> \n",
       "    </tr>    <tr> \n",
       "        <th id=\"T_d3f0ea22_8f37_11e9_a399_dc5360679d95level0_row2\" class=\"row_heading level0 row2\" >15-19</th> \n",
       "        <td id=\"T_d3f0ea22_8f37_11e9_a399_dc5360679d95row2_col0\" class=\"data row2 col0\" >107</td> \n",
       "        <td id=\"T_d3f0ea22_8f37_11e9_a399_dc5360679d95row2_col1\" class=\"data row2 col1\" >18.58</td> \n",
       "    </tr>    <tr> \n",
       "        <th id=\"T_d3f0ea22_8f37_11e9_a399_dc5360679d95level0_row3\" class=\"row_heading level0 row3\" >20-24</th> \n",
       "        <td id=\"T_d3f0ea22_8f37_11e9_a399_dc5360679d95row3_col0\" class=\"data row3 col0\" >258</td> \n",
       "        <td id=\"T_d3f0ea22_8f37_11e9_a399_dc5360679d95row3_col1\" class=\"data row3 col1\" >44.79</td> \n",
       "    </tr>    <tr> \n",
       "        <th id=\"T_d3f0ea22_8f37_11e9_a399_dc5360679d95level0_row4\" class=\"row_heading level0 row4\" >25-29</th> \n",
       "        <td id=\"T_d3f0ea22_8f37_11e9_a399_dc5360679d95row4_col0\" class=\"data row4 col0\" >77</td> \n",
       "        <td id=\"T_d3f0ea22_8f37_11e9_a399_dc5360679d95row4_col1\" class=\"data row4 col1\" >13.37</td> \n",
       "    </tr>    <tr> \n",
       "        <th id=\"T_d3f0ea22_8f37_11e9_a399_dc5360679d95level0_row5\" class=\"row_heading level0 row5\" >30-34</th> \n",
       "        <td id=\"T_d3f0ea22_8f37_11e9_a399_dc5360679d95row5_col0\" class=\"data row5 col0\" >52</td> \n",
       "        <td id=\"T_d3f0ea22_8f37_11e9_a399_dc5360679d95row5_col1\" class=\"data row5 col1\" >9.03</td> \n",
       "    </tr>    <tr> \n",
       "        <th id=\"T_d3f0ea22_8f37_11e9_a399_dc5360679d95level0_row6\" class=\"row_heading level0 row6\" >35-39</th> \n",
       "        <td id=\"T_d3f0ea22_8f37_11e9_a399_dc5360679d95row6_col0\" class=\"data row6 col0\" >31</td> \n",
       "        <td id=\"T_d3f0ea22_8f37_11e9_a399_dc5360679d95row6_col1\" class=\"data row6 col1\" >5.38</td> \n",
       "    </tr>    <tr> \n",
       "        <th id=\"T_d3f0ea22_8f37_11e9_a399_dc5360679d95level0_row7\" class=\"row_heading level0 row7\" >40+</th> \n",
       "        <td id=\"T_d3f0ea22_8f37_11e9_a399_dc5360679d95row7_col0\" class=\"data row7 col0\" >12</td> \n",
       "        <td id=\"T_d3f0ea22_8f37_11e9_a399_dc5360679d95row7_col1\" class=\"data row7 col1\" >2.08</td> \n",
       "    </tr></tbody> \n",
       "</table> "
      ],
      "text/plain": [
       "<pandas.io.formats.style.Styler at 0x15d0bf8a320>"
      ]
     },
     "execution_count": 97,
     "metadata": {},
     "output_type": "execute_result"
    }
   ],
   "source": [
    "ages= [0, 10, 14, 19, 24, 29, 34, 39, 200]\n",
    "group_names = [\"<10\", \"10-14\", \"15-19\", \"20-24\", \"25-29\", \"30-34\", \"35-39\", \"40+\"]\n",
    "age_series = pd.cut(purchase_data.groupby(\"SN\")[\"Age\"].mean(), ages, labels=group_names).value_counts()\n",
    "age_percent = round(age_series / age_series.sum() * 100, 2)\n",
    "age_df = pd.concat([age_series, age_percent], axis=1, sort = True)\n",
    "age_df.columns = [\"Total number\", \"Percentage\"]\n",
    "age_df.style"
   ]
  },
  {
   "cell_type": "markdown",
   "metadata": {},
   "source": [
    "## Purchasing Analysis (Age)"
   ]
  },
  {
   "cell_type": "markdown",
   "metadata": {},
   "source": [
    "* Bin the purchase_data data frame by age\n",
    "\n",
    "\n",
    "* Run basic calculations to obtain purchase count, avg. purchase price, avg. purchase total per person etc. in the table below\n",
    "\n",
    "\n",
    "* Create a summary data frame to hold the results\n",
    "\n",
    "\n",
    "* Optional: give the displayed data cleaner formatting\n",
    "\n",
    "\n",
    "* Display the summary data frame"
   ]
  },
  {
   "cell_type": "code",
   "execution_count": 108,
   "metadata": {},
   "outputs": [
    {
     "data": {
      "text/html": [
       "<style  type=\"text/css\" >\n",
       "</style>  \n",
       "<table id=\"T_4577e034_8f3b_11e9_8d84_dc5360679d95\" > \n",
       "<thead>    <tr> \n",
       "        <th class=\"blank level0\" ></th> \n",
       "        <th class=\"col_heading level0 col0\" >Purchase Count</th> \n",
       "        <th class=\"col_heading level0 col1\" >Average Purchase Price</th> \n",
       "        <th class=\"col_heading level0 col2\" >Total Purchase Value</th> \n",
       "        <th class=\"col_heading level0 col3\" >Average Purchase per Person</th> \n",
       "    </tr></thead> \n",
       "<tbody>    <tr> \n",
       "        <th id=\"T_4577e034_8f3b_11e9_8d84_dc5360679d95level0_row0\" class=\"row_heading level0 row0\" >10-14</th> \n",
       "        <td id=\"T_4577e034_8f3b_11e9_8d84_dc5360679d95row0_col0\" class=\"data row0 col0\" >19</td> \n",
       "        <td id=\"T_4577e034_8f3b_11e9_8d84_dc5360679d95row0_col1\" class=\"data row0 col1\" >$2.68</td> \n",
       "        <td id=\"T_4577e034_8f3b_11e9_8d84_dc5360679d95row0_col2\" class=\"data row0 col2\" >$50.95</td> \n",
       "        <td id=\"T_4577e034_8f3b_11e9_8d84_dc5360679d95row0_col3\" class=\"data row0 col3\" >$3.4</td> \n",
       "    </tr>    <tr> \n",
       "        <th id=\"T_4577e034_8f3b_11e9_8d84_dc5360679d95level0_row1\" class=\"row_heading level0 row1\" >15-19</th> \n",
       "        <td id=\"T_4577e034_8f3b_11e9_8d84_dc5360679d95row1_col0\" class=\"data row1 col0\" >136</td> \n",
       "        <td id=\"T_4577e034_8f3b_11e9_8d84_dc5360679d95row1_col1\" class=\"data row1 col1\" >$3.04</td> \n",
       "        <td id=\"T_4577e034_8f3b_11e9_8d84_dc5360679d95row1_col2\" class=\"data row1 col2\" >$412.89</td> \n",
       "        <td id=\"T_4577e034_8f3b_11e9_8d84_dc5360679d95row1_col3\" class=\"data row1 col3\" >$3.86</td> \n",
       "    </tr>    <tr> \n",
       "        <th id=\"T_4577e034_8f3b_11e9_8d84_dc5360679d95level0_row2\" class=\"row_heading level0 row2\" >20-24</th> \n",
       "        <td id=\"T_4577e034_8f3b_11e9_8d84_dc5360679d95row2_col0\" class=\"data row2 col0\" >365</td> \n",
       "        <td id=\"T_4577e034_8f3b_11e9_8d84_dc5360679d95row2_col1\" class=\"data row2 col1\" >$3.05</td> \n",
       "        <td id=\"T_4577e034_8f3b_11e9_8d84_dc5360679d95row2_col2\" class=\"data row2 col2\" >$1114.06</td> \n",
       "        <td id=\"T_4577e034_8f3b_11e9_8d84_dc5360679d95row2_col3\" class=\"data row2 col3\" >$4.32</td> \n",
       "    </tr>    <tr> \n",
       "        <th id=\"T_4577e034_8f3b_11e9_8d84_dc5360679d95level0_row3\" class=\"row_heading level0 row3\" >25-29</th> \n",
       "        <td id=\"T_4577e034_8f3b_11e9_8d84_dc5360679d95row3_col0\" class=\"data row3 col0\" >101</td> \n",
       "        <td id=\"T_4577e034_8f3b_11e9_8d84_dc5360679d95row3_col1\" class=\"data row3 col1\" >$2.9</td> \n",
       "        <td id=\"T_4577e034_8f3b_11e9_8d84_dc5360679d95row3_col2\" class=\"data row3 col2\" >$293.0</td> \n",
       "        <td id=\"T_4577e034_8f3b_11e9_8d84_dc5360679d95row3_col3\" class=\"data row3 col3\" >$3.81</td> \n",
       "    </tr>    <tr> \n",
       "        <th id=\"T_4577e034_8f3b_11e9_8d84_dc5360679d95level0_row4\" class=\"row_heading level0 row4\" >30-34</th> \n",
       "        <td id=\"T_4577e034_8f3b_11e9_8d84_dc5360679d95row4_col0\" class=\"data row4 col0\" >73</td> \n",
       "        <td id=\"T_4577e034_8f3b_11e9_8d84_dc5360679d95row4_col1\" class=\"data row4 col1\" >$2.93</td> \n",
       "        <td id=\"T_4577e034_8f3b_11e9_8d84_dc5360679d95row4_col2\" class=\"data row4 col2\" >$214.0</td> \n",
       "        <td id=\"T_4577e034_8f3b_11e9_8d84_dc5360679d95row4_col3\" class=\"data row4 col3\" >$4.12</td> \n",
       "    </tr>    <tr> \n",
       "        <th id=\"T_4577e034_8f3b_11e9_8d84_dc5360679d95level0_row5\" class=\"row_heading level0 row5\" >35-39</th> \n",
       "        <td id=\"T_4577e034_8f3b_11e9_8d84_dc5360679d95row5_col0\" class=\"data row5 col0\" >41</td> \n",
       "        <td id=\"T_4577e034_8f3b_11e9_8d84_dc5360679d95row5_col1\" class=\"data row5 col1\" >$3.6</td> \n",
       "        <td id=\"T_4577e034_8f3b_11e9_8d84_dc5360679d95row5_col2\" class=\"data row5 col2\" >$147.67</td> \n",
       "        <td id=\"T_4577e034_8f3b_11e9_8d84_dc5360679d95row5_col3\" class=\"data row5 col3\" >$4.76</td> \n",
       "    </tr>    <tr> \n",
       "        <th id=\"T_4577e034_8f3b_11e9_8d84_dc5360679d95level0_row6\" class=\"row_heading level0 row6\" >40+</th> \n",
       "        <td id=\"T_4577e034_8f3b_11e9_8d84_dc5360679d95row6_col0\" class=\"data row6 col0\" >13</td> \n",
       "        <td id=\"T_4577e034_8f3b_11e9_8d84_dc5360679d95row6_col1\" class=\"data row6 col1\" >$2.94</td> \n",
       "        <td id=\"T_4577e034_8f3b_11e9_8d84_dc5360679d95row6_col2\" class=\"data row6 col2\" >$38.24</td> \n",
       "        <td id=\"T_4577e034_8f3b_11e9_8d84_dc5360679d95row6_col3\" class=\"data row6 col3\" >$3.19</td> \n",
       "    </tr>    <tr> \n",
       "        <th id=\"T_4577e034_8f3b_11e9_8d84_dc5360679d95level0_row7\" class=\"row_heading level0 row7\" ><10</th> \n",
       "        <td id=\"T_4577e034_8f3b_11e9_8d84_dc5360679d95row7_col0\" class=\"data row7 col0\" >32</td> \n",
       "        <td id=\"T_4577e034_8f3b_11e9_8d84_dc5360679d95row7_col1\" class=\"data row7 col1\" >$3.4</td> \n",
       "        <td id=\"T_4577e034_8f3b_11e9_8d84_dc5360679d95row7_col2\" class=\"data row7 col2\" >$108.96</td> \n",
       "        <td id=\"T_4577e034_8f3b_11e9_8d84_dc5360679d95row7_col3\" class=\"data row7 col3\" >$4.54</td> \n",
       "    </tr></tbody> \n",
       "</table> "
      ],
      "text/plain": [
       "<pandas.io.formats.style.Styler at 0x15d0d298828>"
      ]
     },
     "execution_count": 108,
     "metadata": {},
     "output_type": "execute_result"
    }
   ],
   "source": [
    "purchase_data[\"Age Range\"] = pd.cut(purchase_data.Age, ages, labels=group_names)\n",
    "pur_count_age = purchase_data[\"Age Range\"].value_counts()\n",
    "av_price_age =  round(purchase_data.groupby(\"Age Range\")[\"Price\"].mean(), 2)\n",
    "av_price_age = '$' + av_price_age.astype(str)\n",
    "total_val_age = round(purchase_data.groupby(\"Age Range\")[\"Price\"].sum(), 2)\n",
    "av_pur_pp_age = round(total_val_age / purchase_data.groupby('Age Range')['SN'].nunique(), 2)\n",
    "total_val_age = '$' + total_val_age.astype(str)\n",
    "av_pur_pp_age = '$' + av_pur_pp_age.astype(str)\n",
    "purchase_df_age = pd.concat([pur_count_age, av_price_age, total_val_age, av_pur_pp_age], axis=1, sort = True)\n",
    "purchase_df_age.columns = [\"Purchase Count\", \"Average Purchase Price\", \"Total Purchase Value\", \"Average Purchase per Person\"]\n",
    "purchase_df_age.style"
   ]
  },
  {
   "cell_type": "markdown",
   "metadata": {},
   "source": [
    "## Top Spenders"
   ]
  },
  {
   "cell_type": "markdown",
   "metadata": {},
   "source": [
    "* Run basic calculations to obtain the results in the table below\n",
    "\n",
    "\n",
    "* Create a summary data frame to hold the results\n",
    "\n",
    "\n",
    "* Sort the total purchase value column in descending order\n",
    "\n",
    "\n",
    "* Optional: give the displayed data cleaner formatting\n",
    "\n",
    "\n",
    "* Display a preview of the summary data frame\n",
    "\n"
   ]
  },
  {
   "cell_type": "code",
   "execution_count": 159,
   "metadata": {},
   "outputs": [
    {
     "data": {
      "text/html": [
       "<style  type=\"text/css\" >\n",
       "</style>  \n",
       "<table id=\"T_73fed738_8fa5_11e9_a949_dc5360679d95\" > \n",
       "<thead>    <tr> \n",
       "        <th class=\"blank level0\" ></th> \n",
       "        <th class=\"col_heading level0 col0\" >Purchase Count</th> \n",
       "        <th class=\"col_heading level0 col1\" >Average Purchase Price</th> \n",
       "        <th class=\"col_heading level0 col2\" >Total Purchase Value</th> \n",
       "    </tr>    <tr> \n",
       "        <th class=\"index_name level0\" >SN</th> \n",
       "        <th class=\"blank\" ></th> \n",
       "        <th class=\"blank\" ></th> \n",
       "        <th class=\"blank\" ></th> \n",
       "    </tr></thead> \n",
       "<tbody>    <tr> \n",
       "        <th id=\"T_73fed738_8fa5_11e9_a949_dc5360679d95level0_row0\" class=\"row_heading level0 row0\" >Lisosia93</th> \n",
       "        <td id=\"T_73fed738_8fa5_11e9_a949_dc5360679d95row0_col0\" class=\"data row0 col0\" >5</td> \n",
       "        <td id=\"T_73fed738_8fa5_11e9_a949_dc5360679d95row0_col1\" class=\"data row0 col1\" >3.79</td> \n",
       "        <td id=\"T_73fed738_8fa5_11e9_a949_dc5360679d95row0_col2\" class=\"data row0 col2\" >18.96</td> \n",
       "    </tr>    <tr> \n",
       "        <th id=\"T_73fed738_8fa5_11e9_a949_dc5360679d95level0_row1\" class=\"row_heading level0 row1\" >Idastidru52</th> \n",
       "        <td id=\"T_73fed738_8fa5_11e9_a949_dc5360679d95row1_col0\" class=\"data row1 col0\" >4</td> \n",
       "        <td id=\"T_73fed738_8fa5_11e9_a949_dc5360679d95row1_col1\" class=\"data row1 col1\" >3.86</td> \n",
       "        <td id=\"T_73fed738_8fa5_11e9_a949_dc5360679d95row1_col2\" class=\"data row1 col2\" >15.45</td> \n",
       "    </tr>    <tr> \n",
       "        <th id=\"T_73fed738_8fa5_11e9_a949_dc5360679d95level0_row2\" class=\"row_heading level0 row2\" >Chamjask73</th> \n",
       "        <td id=\"T_73fed738_8fa5_11e9_a949_dc5360679d95row2_col0\" class=\"data row2 col0\" >3</td> \n",
       "        <td id=\"T_73fed738_8fa5_11e9_a949_dc5360679d95row2_col1\" class=\"data row2 col1\" >4.61</td> \n",
       "        <td id=\"T_73fed738_8fa5_11e9_a949_dc5360679d95row2_col2\" class=\"data row2 col2\" >13.83</td> \n",
       "    </tr>    <tr> \n",
       "        <th id=\"T_73fed738_8fa5_11e9_a949_dc5360679d95level0_row3\" class=\"row_heading level0 row3\" >Iral74</th> \n",
       "        <td id=\"T_73fed738_8fa5_11e9_a949_dc5360679d95row3_col0\" class=\"data row3 col0\" >4</td> \n",
       "        <td id=\"T_73fed738_8fa5_11e9_a949_dc5360679d95row3_col1\" class=\"data row3 col1\" >3.4</td> \n",
       "        <td id=\"T_73fed738_8fa5_11e9_a949_dc5360679d95row3_col2\" class=\"data row3 col2\" >13.62</td> \n",
       "    </tr>    <tr> \n",
       "        <th id=\"T_73fed738_8fa5_11e9_a949_dc5360679d95level0_row4\" class=\"row_heading level0 row4\" >Iskadarya95</th> \n",
       "        <td id=\"T_73fed738_8fa5_11e9_a949_dc5360679d95row4_col0\" class=\"data row4 col0\" >3</td> \n",
       "        <td id=\"T_73fed738_8fa5_11e9_a949_dc5360679d95row4_col1\" class=\"data row4 col1\" >4.37</td> \n",
       "        <td id=\"T_73fed738_8fa5_11e9_a949_dc5360679d95row4_col2\" class=\"data row4 col2\" >13.1</td> \n",
       "    </tr></tbody> \n",
       "</table> "
      ],
      "text/plain": [
       "<pandas.io.formats.style.Styler at 0x15d0f1d6320>"
      ]
     },
     "execution_count": 159,
     "metadata": {},
     "output_type": "execute_result"
    }
   ],
   "source": [
    "top_sp = purchase_data.groupby(\"SN\")[\"Price\"].sum().nlargest(5)\n",
    "top_ave_pp = round(purchase_data.groupby(\"SN\").Price.mean().loc[top_sp.index], 2)\n",
    "top_no_pur = purchase_data.groupby(\"SN\").Price.count().loc[top_sp.index]\n",
    "top_df = pd.concat([top_no_pur, top_ave_pp, top_sp], axis=1)\n",
    "top_df.columns = [\"Purchase Count\", \"Average Purchase Price\", \"Total Purchase Value\"]\n",
    "top_df = top_df.sort_values(by='Total Purchase Value', ascending=False)\n",
    "top_df.head().style"
   ]
  },
  {
   "cell_type": "markdown",
   "metadata": {},
   "source": [
    "## Most Popular Items"
   ]
  },
  {
   "cell_type": "markdown",
   "metadata": {},
   "source": [
    "* Retrieve the Item ID, Item Name, and Item Price columns\n",
    "\n",
    "\n",
    "* Group by Item ID and Item Name. Perform calculations to obtain purchase count, item price, and total purchase value\n",
    "\n",
    "\n",
    "* Create a summary data frame to hold the results\n",
    "\n",
    "\n",
    "* Sort the purchase count column in descending order\n",
    "\n",
    "\n",
    "* Optional: give the displayed data cleaner formatting\n",
    "\n",
    "\n",
    "* Display a preview of the summary data frame\n",
    "\n"
   ]
  },
  {
   "cell_type": "code",
   "execution_count": 160,
   "metadata": {},
   "outputs": [
    {
     "data": {
      "text/html": [
       "<style  type=\"text/css\" >\n",
       "</style>  \n",
       "<table id=\"T_8807e292_8fa5_11e9_b3b2_dc5360679d95\" > \n",
       "<thead>    <tr> \n",
       "        <th class=\"blank\" ></th> \n",
       "        <th class=\"blank level0\" ></th> \n",
       "        <th class=\"col_heading level0 col0\" >Purchase Count</th> \n",
       "        <th class=\"col_heading level0 col1\" >Purchase Price</th> \n",
       "        <th class=\"col_heading level0 col2\" >Total Purchase Value</th> \n",
       "    </tr>    <tr> \n",
       "        <th class=\"index_name level0\" >Item ID</th> \n",
       "        <th class=\"index_name level1\" >Item Name</th> \n",
       "        <th class=\"blank\" ></th> \n",
       "        <th class=\"blank\" ></th> \n",
       "        <th class=\"blank\" ></th> \n",
       "    </tr></thead> \n",
       "<tbody>    <tr> \n",
       "        <th id=\"T_8807e292_8fa5_11e9_b3b2_dc5360679d95level0_row0\" class=\"row_heading level0 row0\" >178</th> \n",
       "        <th id=\"T_8807e292_8fa5_11e9_b3b2_dc5360679d95level1_row0\" class=\"row_heading level1 row0\" >Oathbreaker, Last Hope of the Breaking Storm</th> \n",
       "        <td id=\"T_8807e292_8fa5_11e9_b3b2_dc5360679d95row0_col0\" class=\"data row0 col0\" >12</td> \n",
       "        <td id=\"T_8807e292_8fa5_11e9_b3b2_dc5360679d95row0_col1\" class=\"data row0 col1\" >4.23</td> \n",
       "        <td id=\"T_8807e292_8fa5_11e9_b3b2_dc5360679d95row0_col2\" class=\"data row0 col2\" >50.76</td> \n",
       "    </tr>    <tr> \n",
       "        <th id=\"T_8807e292_8fa5_11e9_b3b2_dc5360679d95level0_row1\" class=\"row_heading level0 row1\" >145</th> \n",
       "        <th id=\"T_8807e292_8fa5_11e9_b3b2_dc5360679d95level1_row1\" class=\"row_heading level1 row1\" >Fiery Glass Crusader</th> \n",
       "        <td id=\"T_8807e292_8fa5_11e9_b3b2_dc5360679d95row1_col0\" class=\"data row1 col0\" >9</td> \n",
       "        <td id=\"T_8807e292_8fa5_11e9_b3b2_dc5360679d95row1_col1\" class=\"data row1 col1\" >4.58</td> \n",
       "        <td id=\"T_8807e292_8fa5_11e9_b3b2_dc5360679d95row1_col2\" class=\"data row1 col2\" >41.22</td> \n",
       "    </tr>    <tr> \n",
       "        <th id=\"T_8807e292_8fa5_11e9_b3b2_dc5360679d95level0_row2\" class=\"row_heading level0 row2\" >108</th> \n",
       "        <th id=\"T_8807e292_8fa5_11e9_b3b2_dc5360679d95level1_row2\" class=\"row_heading level1 row2\" >Extraction, Quickblade Of Trembling Hands</th> \n",
       "        <td id=\"T_8807e292_8fa5_11e9_b3b2_dc5360679d95row2_col0\" class=\"data row2 col0\" >9</td> \n",
       "        <td id=\"T_8807e292_8fa5_11e9_b3b2_dc5360679d95row2_col1\" class=\"data row2 col1\" >3.53</td> \n",
       "        <td id=\"T_8807e292_8fa5_11e9_b3b2_dc5360679d95row2_col2\" class=\"data row2 col2\" >31.77</td> \n",
       "    </tr>    <tr> \n",
       "        <th id=\"T_8807e292_8fa5_11e9_b3b2_dc5360679d95level0_row3\" class=\"row_heading level0 row3\" >82</th> \n",
       "        <th id=\"T_8807e292_8fa5_11e9_b3b2_dc5360679d95level1_row3\" class=\"row_heading level1 row3\" >Nirvana</th> \n",
       "        <td id=\"T_8807e292_8fa5_11e9_b3b2_dc5360679d95row3_col0\" class=\"data row3 col0\" >9</td> \n",
       "        <td id=\"T_8807e292_8fa5_11e9_b3b2_dc5360679d95row3_col1\" class=\"data row3 col1\" >4.9</td> \n",
       "        <td id=\"T_8807e292_8fa5_11e9_b3b2_dc5360679d95row3_col2\" class=\"data row3 col2\" >44.1</td> \n",
       "    </tr>    <tr> \n",
       "        <th id=\"T_8807e292_8fa5_11e9_b3b2_dc5360679d95level0_row4\" class=\"row_heading level0 row4\" >19</th> \n",
       "        <th id=\"T_8807e292_8fa5_11e9_b3b2_dc5360679d95level1_row4\" class=\"row_heading level1 row4\" >Pursuit, Cudgel of Necromancy</th> \n",
       "        <td id=\"T_8807e292_8fa5_11e9_b3b2_dc5360679d95row4_col0\" class=\"data row4 col0\" >8</td> \n",
       "        <td id=\"T_8807e292_8fa5_11e9_b3b2_dc5360679d95row4_col1\" class=\"data row4 col1\" >1.02</td> \n",
       "        <td id=\"T_8807e292_8fa5_11e9_b3b2_dc5360679d95row4_col2\" class=\"data row4 col2\" >8.16</td> \n",
       "    </tr></tbody> \n",
       "</table> "
      ],
      "text/plain": [
       "<pandas.io.formats.style.Styler at 0x15d0f1d65c0>"
      ]
     },
     "execution_count": 160,
     "metadata": {},
     "output_type": "execute_result"
    }
   ],
   "source": [
    "new_df = purchase_data[[\"Item ID\", \"Item Name\", \"Price\"]]\n",
    "pur_count_pop = new_df.groupby([\"Item ID\", \"Item Name\"]).count()\n",
    "total_val_pop = new_df.groupby([\"Item ID\", \"Item Name\"])[\"Price\"].sum()\n",
    "# I used mean function here to get the price, as the prices for the same item would be the same and the mean price won't change the price, but will reduce it to one and give me series to be concatenated.\n",
    "pur_price = new_df.groupby([\"Item ID\", \"Item Name\"]).mean()\n",
    "pop_df = pd.concat([pur_count_pop, pur_price, total_val_pop], axis=1)\n",
    "pop_df.columns = [\"Purchase Count\", \"Purchase Price\", \"Total Purchase Value\"]\n",
    "pop_df = pop_df.sort_values(by='Purchase Count', ascending=False)\n",
    "pop_df.head().style"
   ]
  },
  {
   "cell_type": "markdown",
   "metadata": {},
   "source": [
    "## Most Profitable Items"
   ]
  },
  {
   "cell_type": "markdown",
   "metadata": {},
   "source": [
    "* Sort the above table by total purchase value in descending order\n",
    "\n",
    "\n",
    "* Optional: give the displayed data cleaner formatting\n",
    "\n",
    "\n",
    "* Display a preview of the data frame\n",
    "\n"
   ]
  },
  {
   "cell_type": "code",
   "execution_count": 161,
   "metadata": {
    "scrolled": true
   },
   "outputs": [
    {
     "data": {
      "text/html": [
       "<style  type=\"text/css\" >\n",
       "</style>  \n",
       "<table id=\"T_07aad3de_9167_11e9_be45_dc5360679d95\" > \n",
       "<thead>    <tr> \n",
       "        <th class=\"blank\" ></th> \n",
       "        <th class=\"blank level0\" ></th> \n",
       "        <th class=\"col_heading level0 col0\" >Purchase Count</th> \n",
       "        <th class=\"col_heading level0 col1\" >Purchase Price</th> \n",
       "        <th class=\"col_heading level0 col2\" >Total Purchase Value</th> \n",
       "    </tr>    <tr> \n",
       "        <th class=\"index_name level0\" >Item ID</th> \n",
       "        <th class=\"index_name level1\" >Item Name</th> \n",
       "        <th class=\"blank\" ></th> \n",
       "        <th class=\"blank\" ></th> \n",
       "        <th class=\"blank\" ></th> \n",
       "    </tr></thead> \n",
       "<tbody>    <tr> \n",
       "        <th id=\"T_07aad3de_9167_11e9_be45_dc5360679d95level0_row0\" class=\"row_heading level0 row0\" >178</th> \n",
       "        <th id=\"T_07aad3de_9167_11e9_be45_dc5360679d95level1_row0\" class=\"row_heading level1 row0\" >Oathbreaker, Last Hope of the Breaking Storm</th> \n",
       "        <td id=\"T_07aad3de_9167_11e9_be45_dc5360679d95row0_col0\" class=\"data row0 col0\" >12</td> \n",
       "        <td id=\"T_07aad3de_9167_11e9_be45_dc5360679d95row0_col1\" class=\"data row0 col1\" >4.23</td> \n",
       "        <td id=\"T_07aad3de_9167_11e9_be45_dc5360679d95row0_col2\" class=\"data row0 col2\" >50.76</td> \n",
       "    </tr>    <tr> \n",
       "        <th id=\"T_07aad3de_9167_11e9_be45_dc5360679d95level0_row1\" class=\"row_heading level0 row1\" >82</th> \n",
       "        <th id=\"T_07aad3de_9167_11e9_be45_dc5360679d95level1_row1\" class=\"row_heading level1 row1\" >Nirvana</th> \n",
       "        <td id=\"T_07aad3de_9167_11e9_be45_dc5360679d95row1_col0\" class=\"data row1 col0\" >9</td> \n",
       "        <td id=\"T_07aad3de_9167_11e9_be45_dc5360679d95row1_col1\" class=\"data row1 col1\" >4.9</td> \n",
       "        <td id=\"T_07aad3de_9167_11e9_be45_dc5360679d95row1_col2\" class=\"data row1 col2\" >44.1</td> \n",
       "    </tr>    <tr> \n",
       "        <th id=\"T_07aad3de_9167_11e9_be45_dc5360679d95level0_row2\" class=\"row_heading level0 row2\" >145</th> \n",
       "        <th id=\"T_07aad3de_9167_11e9_be45_dc5360679d95level1_row2\" class=\"row_heading level1 row2\" >Fiery Glass Crusader</th> \n",
       "        <td id=\"T_07aad3de_9167_11e9_be45_dc5360679d95row2_col0\" class=\"data row2 col0\" >9</td> \n",
       "        <td id=\"T_07aad3de_9167_11e9_be45_dc5360679d95row2_col1\" class=\"data row2 col1\" >4.58</td> \n",
       "        <td id=\"T_07aad3de_9167_11e9_be45_dc5360679d95row2_col2\" class=\"data row2 col2\" >41.22</td> \n",
       "    </tr>    <tr> \n",
       "        <th id=\"T_07aad3de_9167_11e9_be45_dc5360679d95level0_row3\" class=\"row_heading level0 row3\" >92</th> \n",
       "        <th id=\"T_07aad3de_9167_11e9_be45_dc5360679d95level1_row3\" class=\"row_heading level1 row3\" >Final Critic</th> \n",
       "        <td id=\"T_07aad3de_9167_11e9_be45_dc5360679d95row3_col0\" class=\"data row3 col0\" >8</td> \n",
       "        <td id=\"T_07aad3de_9167_11e9_be45_dc5360679d95row3_col1\" class=\"data row3 col1\" >4.88</td> \n",
       "        <td id=\"T_07aad3de_9167_11e9_be45_dc5360679d95row3_col2\" class=\"data row3 col2\" >39.04</td> \n",
       "    </tr>    <tr> \n",
       "        <th id=\"T_07aad3de_9167_11e9_be45_dc5360679d95level0_row4\" class=\"row_heading level0 row4\" >103</th> \n",
       "        <th id=\"T_07aad3de_9167_11e9_be45_dc5360679d95level1_row4\" class=\"row_heading level1 row4\" >Singed Scalpel</th> \n",
       "        <td id=\"T_07aad3de_9167_11e9_be45_dc5360679d95row4_col0\" class=\"data row4 col0\" >8</td> \n",
       "        <td id=\"T_07aad3de_9167_11e9_be45_dc5360679d95row4_col1\" class=\"data row4 col1\" >4.35</td> \n",
       "        <td id=\"T_07aad3de_9167_11e9_be45_dc5360679d95row4_col2\" class=\"data row4 col2\" >34.8</td> \n",
       "    </tr></tbody> \n",
       "</table> "
      ],
      "text/plain": [
       "<pandas.io.formats.style.Styler at 0x15d0d477be0>"
      ]
     },
     "execution_count": 161,
     "metadata": {},
     "output_type": "execute_result"
    }
   ],
   "source": [
    "profit_df = pop_df.sort_values(by='Total Purchase Value', ascending=False)\n",
    "profit_df.head().style"
   ]
  },
  {
   "cell_type": "code",
   "execution_count": null,
   "metadata": {},
   "outputs": [],
   "source": []
  }
 ],
 "metadata": {
  "anaconda-cloud": {},
  "kernel_info": {
   "name": "python3"
  },
  "kernelspec": {
   "display_name": "Python 3",
   "language": "python",
   "name": "python3"
  },
  "language_info": {
   "codemirror_mode": {
    "name": "ipython",
    "version": 3
   },
   "file_extension": ".py",
   "mimetype": "text/x-python",
   "name": "python",
   "nbconvert_exporter": "python",
   "pygments_lexer": "ipython3",
   "version": "3.7.1"
  },
  "nteract": {
   "version": "0.2.0"
  }
 },
 "nbformat": 4,
 "nbformat_minor": 2
}
